{
 "cells": [
  {
   "cell_type": "code",
   "execution_count": null,
   "metadata": {},
   "outputs": [],
   "source": [
    "import pandas as pd\n",
    "\n",
    "# Load datasets\n",
    "customers = pd.read_csv('Customers.csv')\n",
    "products = pd.read_csv('Products.csv')\n",
    "transactions = pd.read_csv('Transactions.csv')\n",
    "\n",
    "# Display first few rows of each\n",
    "print(\"Customers Data:\")\n",
    "print(customers.head())\n",
    "\n",
    "print(\"\\nProducts Data:\")\n",
    "print(products.head())\n",
    "\n",
    "print(\"\\nTransactions Data:\")\n",
    "print(transactions.head())\n"
   ]
  }
 ],
 "metadata": {
  "language_info": {
   "name": "python"
  }
 },
 "nbformat": 4,
 "nbformat_minor": 2
}
