{
 "cells": [
  {
   "cell_type": "code",
   "execution_count": null,
   "metadata": {},
   "outputs": [],
   "source": [
    "import pandas as pd\n",
    "\n",
    "# Load datasets\n",
    "customers = pd.read_csv('Customers.csv')\n",
    "products = pd.read_csv('Products.csv')\n",
    "transactions = pd.read_csv('Transactions.csv')\n",
    "\n",
    "# Display first few rows of each\n",
    "print(\"Customers Data:\")\n",
    "print(customers.head())\n",
    "\n",
    "print(\"\\nProducts Data:\")\n",
    "print(products.head())\n",
    "\n",
    "print(\"\\nTransactions Data:\")\n",
    "print(transactions.head())\n",
    "\n",
    "\n"
   ]
  },
  {
   "cell_type": "code",
   "execution_count": null,
   "metadata": {},
   "outputs": [],
   "source": [
    "# Merge datasets\n",
    "combined_data = transactions.merge(customers, on='CustomerID').merge(products, on='ProductID')\n",
    "\n",
    "# Display merged data\n",
    "print(combined_data.head())\n"
   ]
  },
  {
   "cell_type": "code",
   "execution_count": 24,
   "metadata": {},
   "outputs": [],
   "source": [
    "# Total spending\n",
    "customer_spending = combined_data.groupby('CustomerID')['TotalValue'].sum().reset_index(name='TotalSpending')\n",
    "\n",
    "# Average transaction value\n",
    "avg_transaction_value = combined_data.groupby('CustomerID')['TotalValue'].mean().reset_index(name='AvgTransactionValue')\n",
    "\n",
    "# Most frequent product category\n",
    "most_freq_category = combined_data.groupby(['CustomerID', 'Category']).size().reset_index(name='Count')\n",
    "most_freq_category = most_freq_category.sort_values('Count', ascending=False).drop_duplicates('CustomerID')[['CustomerID', 'Category']]\n"
   ]
  },
  {
   "cell_type": "code",
   "execution_count": null,
   "metadata": {},
   "outputs": [],
   "source": [
    "# Merge features\n",
    "customer_features = customers.merge(customer_spending, on='CustomerID') \\\n",
    "                              .merge(avg_transaction_value, on='CustomerID') \\\n",
    "                              .merge(most_freq_category, on='CustomerID')\n",
    "\n",
    "print(customer_features.head())\n"
   ]
  },
  {
   "cell_type": "code",
   "execution_count": 26,
   "metadata": {},
   "outputs": [],
   "source": [
    "import pandas as pd\n",
    "from sklearn.preprocessing import MinMaxScaler\n",
    "\n",
    "# Normalize numerical features\n",
    "scaler = MinMaxScaler()\n",
    "customer_features[['TotalSpending', 'AvgTransactionValue']] = scaler.fit_transform(\n",
    "    customer_features[['TotalSpending', 'AvgTransactionValue']]\n",
    ")\n",
    "\n",
    "# Define similarity function\n",
    "def calculate_similarity(row1, row2):\n",
    "    # Numerical features: Spending and transaction value\n",
    "    spending_similarity = 1 - abs(row1['TotalSpending'] - row2['TotalSpending'])\n",
    "    transaction_similarity = 1 - abs(row1['AvgTransactionValue'] - row2['AvgTransactionValue'])\n",
    "    \n",
    "    # Categorical features: Category and Region\n",
    "    category_similarity = 1 if row1['Category'] == row2['Category'] else 0\n",
    "    region_similarity = 1 if row1['Region'] == row2['Region'] else 0\n",
    "\n",
    "    # Combine with weights\n",
    "    similarity_score = (\n",
    "        0.4 * spending_similarity +\n",
    "        0.4 * transaction_similarity +\n",
    "        0.1 * category_similarity +\n",
    "        0.1 * region_similarity\n",
    "    )\n",
    "    return similarity_score\n"
   ]
  },
  {
   "cell_type": "code",
   "execution_count": 27,
   "metadata": {},
   "outputs": [
    {
     "name": "stdout",
     "output_type": "stream",
     "text": [
      "{'C0001': [('C0107', 0.972456000941437), ('C0118', 0.9652334714915587), ('C0190', 0.9620170911274826)], 'C0002': [('C0043', 0.9438212740292493), ('C0128', 0.9333549465303792), ('C0106', 0.9199558034498942)], 'C0003': [('C0133', 0.9811865197861422), ('C0152', 0.9737109578473857), ('C0052', 0.9719046505293275)], 'C0004': [('C0126', 0.9406710796635684), ('C0153', 0.9378100412789967), ('C0165', 0.9243983273164496)], 'C0005': [('C0146', 0.9683304327541126), ('C0186', 0.9604114029485457), ('C0007', 0.920767620031796)], 'C0006': [('C0171', 0.9563696248017928), ('C0153', 0.894683290341701), ('C0126', 0.891822251957129)], 'C0007': [('C0146', 0.9296256074027667), ('C0005', 0.920767620031796), ('C0115', 0.9190568582076355)], 'C0008': [('C0024', 0.9463247361728941), ('C0194', 0.9443177655528474), ('C0047', 0.9415795668051192)], 'C0009': [('C0111', 0.928469532280304), ('C0010', 0.9269041467134419), ('C0062', 0.8920913017127197)], 'C0010': [('C0111', 0.979138404544274), ('C0062', 0.959294888457491), ('C0009', 0.9269041467134419)], 'C0011': [('C0126', 0.963631191861608), ('C0137', 0.9593639108172758), ('C0153', 0.9472332734665372)], 'C0012': [('C0039', 0.949420653651494), ('C0113', 0.9371636792137259), ('C0195', 0.9308167659867815)], 'C0013': [('C0099', 0.9672664269401055), ('C0169', 0.9118118914860744), ('C0108', 0.9034373093310815)], 'C0014': [('C0119', 0.9411327535326897), ('C0060', 0.9148975737399327), ('C0172', 0.9133172171847347)], 'C0015': [('C0144', 0.9707136925247303), ('C0036', 0.9575589209411409), ('C0160', 0.9310322439037986)], 'C0016': [('C0183', 0.9975257432174565), ('C0067', 0.9618204284933081), ('C0125', 0.9558723549015329)], 'C0017': [('C0064', 0.9041320563316517), ('C0132', 0.883012307051708), ('C0070', 0.8781726017557936)], 'C0018': [('C0026', 0.9311631073238529), ('C0050', 0.9138440355662162), ('C0016', 0.9072225275957242)], 'C0019': [('C0121', 0.9153513061504017), ('C0132', 0.9058727867314006), ('C0172', 0.8985470430525961)], 'C0020': [('C0026', 0.8894712208144961), ('C0050', 0.886528197964469), ('C0125', 0.864840806082967)]}\n"
     ]
    }
   ],
   "source": [
    "# Create recommendations\n",
    "lookalike_recommendations = {}\n",
    "\n",
    "for i, customer1 in customer_features.iterrows():\n",
    "    if i >= 20:  # Limit to first 20 customers\n",
    "        break\n",
    "    \n",
    "    similarities = []\n",
    "    for j, customer2 in customer_features.iterrows():\n",
    "        if customer1['CustomerID'] != customer2['CustomerID']:  # Exclude self-comparison\n",
    "            score = calculate_similarity(customer1, customer2)\n",
    "            similarities.append((customer2['CustomerID'], score))\n",
    "    \n",
    "    # Sort by similarity score and get top 3\n",
    "    top_3 = sorted(similarities, key=lambda x: x[1], reverse=True)[:3]\n",
    "    lookalike_recommendations[customer1['CustomerID']] = top_3\n",
    "\n",
    "# Print recommendations\n",
    "print(lookalike_recommendations)\n",
    "# "
   ]
  },
  {
   "cell_type": "code",
   "execution_count": 28,
   "metadata": {},
   "outputs": [],
   "source": [
    "# Save to CSV\n",
    "import csv\n",
    "\n",
    "with open('Pranav_Pandey_Lookalike.csv', mode='w', newline='') as file:\n",
    "    writer = csv.writer(file)\n",
    "    writer.writerow(['CustomerID', 'Lookalikes'])\n",
    "\n",
    "    for customer, recommendations in lookalike_recommendations.items():\n",
    "        writer.writerow([\n",
    "            customer,\n",
    "            [(rec[0], round(rec[1], 2)) for rec in recommendations]  # Round similarity scores\n",
    "        ])\n"
   ]
  }
 ],
 "metadata": {
  "kernelspec": {
   "display_name": "Python 3",
   "language": "python",
   "name": "python3"
  },
  "language_info": {
   "codemirror_mode": {
    "name": "ipython",
    "version": 3
   },
   "file_extension": ".py",
   "mimetype": "text/x-python",
   "name": "python",
   "nbconvert_exporter": "python",
   "pygments_lexer": "ipython3",
   "version": "3.11.9"
  }
 },
 "nbformat": 4,
 "nbformat_minor": 2
}
